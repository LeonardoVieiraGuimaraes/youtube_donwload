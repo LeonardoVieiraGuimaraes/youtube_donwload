{
 "cells": [
  {
   "cell_type": "code",
   "execution_count": 1,
   "outputs": [],
   "source": [
    "from pytube import YouTube\n",
    "import os"
   ],
   "metadata": {
    "collapsed": false,
    "ExecuteTime": {
     "start_time": "2023-04-26T10:32:58.419629Z",
     "end_time": "2023-04-26T10:32:58.438421Z"
    }
   }
  },
  {
   "cell_type": "code",
   "execution_count": 22,
   "outputs": [
    {
     "name": "stdout",
     "output_type": "stream",
     "text": [
      "['https://youtu.be/vRvam_qQPus', 'https://youtu.be/PzbC87qeqkI', 'https://youtu.be/ScYaaVpz1Yk', 'https://youtu.be/Pv_DrQZ7lqQ', 'https://youtu.be/PVi718x9bPc', 'https://youtu.be/sahntcpVlk8', 'https://youtu.be/4nuUzDGV2Qc', 'https://youtu.be/hOouf1rIeFQ', 'https://youtu.be/4WZFM_nk6aA', 'https://youtu.be/JEriPpqGrfw', 'https://youtu.be/Yx3hfMflsLw', 'https://youtu.be/Ycyd71trPuo', 'https://youtu.be/zK249Gcad7Y', 'https://youtu.be/cAPOn92gj3s']\n"
     ]
    }
   ],
   "source": [
    "curso = \"Logica de Programação\"\n",
    "unidade = \"Unidade 03\"\n",
    "with open(f\"{curso}/{unidade}.txt\", 'r') as arquivo:\n",
    "    videos = [linha.rstrip('\\n') for linha in arquivo]\n",
    "print(videos)"
   ],
   "metadata": {
    "collapsed": false,
    "ExecuteTime": {
     "start_time": "2023-04-26T13:23:20.008030Z",
     "end_time": "2023-04-26T13:23:20.017576Z"
    }
   }
  },
  {
   "cell_type": "code",
   "execution_count": 23,
   "outputs": [
    {
     "name": "stdout",
     "output_type": "stream",
     "text": [
      "D:/OneDrive - Uniasselvi/Videos Programas/Logica de Programação/Unidade 03\n",
      "Pasta D:/OneDrive - Uniasselvi/Videos Programas/Logica de Programação/Unidade 03 criada\n"
     ]
    }
   ],
   "source": [
    "# criar pasta\n",
    "local = f\"D:/OneDrive - Uniasselvi/Videos Programas\"\n",
    "pasta = f\"{local}/{curso}/{unidade}\"\n",
    "print(pasta)\n",
    "if not os.path.exists(pasta):\n",
    "    os.mkdir(pasta)\n",
    "    print(\"Pasta \" + pasta + \" criada\")\n",
    "else:\n",
    "    print(\"Pasta \" + pasta + \" já existe\")"
   ],
   "metadata": {
    "collapsed": false,
    "ExecuteTime": {
     "start_time": "2023-04-26T13:23:20.216615Z",
     "end_time": "2023-04-26T13:23:20.228459Z"
    }
   }
  },
  {
   "cell_type": "code",
   "execution_count": 24,
   "outputs": [
    {
     "name": "stdout",
     "output_type": "stream",
     "text": [
      "https://youtu.be/vRvam_qQPus\n",
      "Repetindo o processo\n",
      "https://youtu.be/PzbC87qeqkI\n",
      "https://youtu.be/ScYaaVpz1Yk\n",
      "https://youtu.be/Pv_DrQZ7lqQ\n",
      "https://youtu.be/PVi718x9bPc\n",
      "https://youtu.be/sahntcpVlk8\n",
      "Repetindo o processo\n",
      "Repetindo o processo\n",
      "https://youtu.be/4nuUzDGV2Qc\n",
      "Repetindo o processo\n",
      "Repetindo o processo\n",
      "Repetindo o processo\n",
      "https://youtu.be/hOouf1rIeFQ\n",
      "https://youtu.be/4WZFM_nk6aA\n",
      "https://youtu.be/JEriPpqGrfw\n",
      "https://youtu.be/Yx3hfMflsLw\n",
      "https://youtu.be/Ycyd71trPuo\n",
      "https://youtu.be/zK249Gcad7Y\n",
      "https://youtu.be/cAPOn92gj3s\n"
     ]
    }
   ],
   "source": [
    "# create a YouTube object for the video you want to download\n",
    "for i in videos:\n",
    "    print(i)\n",
    "    yt = YouTube(i)\n",
    "    # get the highest resolution stream\n",
    "    while True:\n",
    "        try:\n",
    "            stream = yt.streams.get_highest_resolution()\n",
    "            break  # exit the loop if the code runs without error\n",
    "        except KeyError:\n",
    "            print(\"Repetindo o processo\")\n",
    "    # download the video to a specified directory\n",
    "    stream.download(output_path=pasta)"
   ],
   "metadata": {
    "collapsed": false,
    "ExecuteTime": {
     "start_time": "2023-04-26T13:23:20.458662Z",
     "end_time": "2023-04-26T13:25:27.909726Z"
    }
   }
  },
  {
   "cell_type": "code",
   "execution_count": null,
   "outputs": [],
   "source": [
    "#algoritmo que baixa todos os videos de uma playlist\n",
    "from pytube import Playlist\n",
    "import os\n"
   ],
   "metadata": {
    "collapsed": false
   }
  }
 ],
 "metadata": {
  "kernelspec": {
   "display_name": "Python 3",
   "language": "python",
   "name": "python3"
  },
  "language_info": {
   "codemirror_mode": {
    "name": "ipython",
    "version": 2
   },
   "file_extension": ".py",
   "mimetype": "text/x-python",
   "name": "python",
   "nbconvert_exporter": "python",
   "pygments_lexer": "ipython2",
   "version": "2.7.6"
  }
 },
 "nbformat": 4,
 "nbformat_minor": 0
}
